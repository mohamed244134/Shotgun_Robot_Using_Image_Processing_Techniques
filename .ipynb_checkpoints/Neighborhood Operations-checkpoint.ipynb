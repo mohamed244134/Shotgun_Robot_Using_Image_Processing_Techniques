{
 "cells": [
  {
   "cell_type": "markdown",
   "metadata": {},
   "source": [
    "# Neighborhood Operations"
   ]
  },
  {
   "cell_type": "markdown",
   "metadata": {},
   "source": [
    "## Import Libraries "
   ]
  },
  {
   "cell_type": "code",
   "execution_count": 1,
   "metadata": {},
   "outputs": [],
   "source": [
    "import cv2\n",
    "## import other needed libraries ##\n",
    "##... CODE HERE ...##"
   ]
  },
  {
   "cell_type": "markdown",
   "metadata": {},
   "source": [
    "## Read Images"
   ]
  },
  {
   "cell_type": "code",
   "execution_count": 2,
   "metadata": {},
   "outputs": [],
   "source": [
    "## read all the images ##\n",
    "##... CODE HERE ...##"
   ]
  },
  {
   "cell_type": "markdown",
   "metadata": {},
   "source": [
    "## Show Images "
   ]
  },
  {
   "cell_type": "code",
   "execution_count": 3,
   "metadata": {},
   "outputs": [],
   "source": [
    "## show all images ##\n",
    "##... CODE HERE ...##"
   ]
  },
  {
   "cell_type": "markdown",
   "metadata": {},
   "source": [
    "## Perform Image Smoothing Operation using Averaging Filters"
   ]
  },
  {
   "cell_type": "code",
   "execution_count": null,
   "metadata": {},
   "outputs": [],
   "source": [
    "## perform image filteration using several filter sizes and different padding methods ##\n",
    "##... CODE HERE ...##\n",
    "\n",
    "## show the filtered images ##\n",
    "##... CODE HERE ...##\n",
    "\n",
    "## save the filtered images ##\n",
    "##... CODE HERE ...##"
   ]
  },
  {
   "cell_type": "markdown",
   "metadata": {},
   "source": [
    "## Perform Image Smoothing Operation using Gaussian Filters"
   ]
  },
  {
   "cell_type": "code",
   "execution_count": 5,
   "metadata": {},
   "outputs": [],
   "source": [
    "## perform image filteration using several filter sizes and different padding methods ##\n",
    "##... CODE HERE ...##\n",
    "\n",
    "## show the filtered images ##\n",
    "##... CODE HERE ...##\n",
    "\n",
    "## save the filtered images ##\n",
    "##... CODE HERE ...##"
   ]
  },
  {
   "cell_type": "markdown",
   "metadata": {},
   "source": [
    "## Filteration Function"
   ]
  },
  {
   "cell_type": "code",
   "execution_count": null,
   "metadata": {},
   "outputs": [],
   "source": [
    "## define the filteration function ##\n",
    "def filteration_func:\n",
    "    ## build a 2D filter manually, loop over the whole image and ##\n",
    "    ## perform 2D convolution by hand ##  \n",
    "    ##... CODE HERE ...##\n",
    "    \n",
    "## show the filtered images ##\n",
    "##... CODE HERE ...##\n",
    "\n",
    "## save the filtered images ##\n",
    "##... CODE HERE ...##"
   ]
  },
  {
   "cell_type": "markdown",
   "metadata": {},
   "source": [
    "## Thank you :)"
   ]
  }
 ],
 "metadata": {
  "kernelspec": {
   "display_name": "Python 3",
   "language": "python",
   "name": "python3"
  },
  "language_info": {
   "codemirror_mode": {
    "name": "ipython",
    "version": 3
   },
   "file_extension": ".py",
   "mimetype": "text/x-python",
   "name": "python",
   "nbconvert_exporter": "python",
   "pygments_lexer": "ipython3",
   "version": "3.7.4"
  }
 },
 "nbformat": 4,
 "nbformat_minor": 5
}
