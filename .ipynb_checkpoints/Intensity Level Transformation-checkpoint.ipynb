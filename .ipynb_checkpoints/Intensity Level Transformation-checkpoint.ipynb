{
 "cells": [
  {
   "cell_type": "markdown",
   "metadata": {},
   "source": [
    "# Intensity Level Transformations "
   ]
  },
  {
   "cell_type": "markdown",
   "metadata": {},
   "source": [
    "## Import Libraries "
   ]
  },
  {
   "cell_type": "code",
   "execution_count": 1,
   "metadata": {},
   "outputs": [],
   "source": [
    "import cv2\n",
    "## import other needed libraries ##\n",
    "##... CODE HERE ...##"
   ]
  },
  {
   "cell_type": "markdown",
   "metadata": {},
   "source": [
    "## Read Images"
   ]
  },
  {
   "cell_type": "code",
   "execution_count": 2,
   "metadata": {},
   "outputs": [],
   "source": [
    "## read all the images ##\n",
    "##... CODE HERE ...##"
   ]
  },
  {
   "cell_type": "markdown",
   "metadata": {},
   "source": [
    "## Show Images "
   ]
  },
  {
   "cell_type": "code",
   "execution_count": 3,
   "metadata": {},
   "outputs": [],
   "source": [
    "## show all images ##\n",
    "##... CODE HERE ...##"
   ]
  },
  {
   "cell_type": "markdown",
   "metadata": {},
   "source": [
    "## Transform from RGB to Grayscale and from Grayscale to Binary "
   ]
  },
  {
   "cell_type": "code",
   "execution_count": 4,
   "metadata": {},
   "outputs": [],
   "source": [
    "## transform the RGB image to grayscale image ##\n",
    "##... CODE HERE ...##\n",
    "\n",
    "## transform the grayscale image to binary image with two different threshold values ##\n",
    "##... CODE HERE ...##\n",
    "\n",
    "## show the RGB, grayscale and binary image ##\n",
    "##... CODE HERE ...##\n",
    "\n",
    "## save the grayscale and binary images ##\n",
    "##... CODE HERE ...##"
   ]
  },
  {
   "cell_type": "markdown",
   "metadata": {},
   "source": [
    "## Histogram Function"
   ]
  },
  {
   "cell_type": "code",
   "execution_count": null,
   "metadata": {},
   "outputs": [],
   "source": [
    "## define the histogram function ##\n",
    "def hist_func:\n",
    "    ##... CODE HERE ...##"
   ]
  },
  {
   "cell_type": "markdown",
   "metadata": {},
   "source": [
    "## Show Histogram"
   ]
  },
  {
   "cell_type": "code",
   "execution_count": 5,
   "metadata": {},
   "outputs": [],
   "source": [
    "## show the histogram of the grayscale image, compared to the binary image ##\n",
    "##... CODE HERE ...##\n",
    "\n",
    "## save the histogram outputted ##\n",
    "##... CODE HERE ...##"
   ]
  },
  {
   "cell_type": "markdown",
   "metadata": {},
   "source": [
    "## Gamma Function "
   ]
  },
  {
   "cell_type": "code",
   "execution_count": null,
   "metadata": {},
   "outputs": [],
   "source": [
    "## define the gamma function ##\n",
    "def gamma_func:\n",
    "    ##... CODE HERE ...##"
   ]
  },
  {
   "cell_type": "markdown",
   "metadata": {},
   "source": [
    "## Brighten the Grayscale Image"
   ]
  },
  {
   "cell_type": "code",
   "execution_count": null,
   "metadata": {},
   "outputs": [],
   "source": [
    "## perform brightening operation on the grayscale image using alpha and beta operations ##\n",
    "##... CODE HERE ...##\n",
    "\n",
    "## perform brightening operation on the grayscale image using gamma function ##\n",
    "##... CODE HERE ...##\n",
    "\n",
    "## show the histogram of both operations compared to each other##\n",
    "##... CODE HERE ...##\n",
    "\n",
    "## save the operated images##\n",
    "##... CODE HERE ...##\n",
    "\n",
    "## save the histograms outputted ##\n",
    "##... CODE HERE ...##"
   ]
  },
  {
   "cell_type": "markdown",
   "metadata": {},
   "source": [
    "## Darken the Grayscale Image"
   ]
  },
  {
   "cell_type": "code",
   "execution_count": null,
   "metadata": {},
   "outputs": [],
   "source": [
    "## perform darkening operation on the grayscale image using alpha and beta operations ##\n",
    "##... CODE HERE ...##\n",
    "\n",
    "## perform darkening operation on the grayscale image using gamma function ##\n",
    "##... CODE HERE ...##\n",
    "\n",
    "## show the histogram of both operations compared to each other##\n",
    "##... CODE HERE ...##\n",
    "\n",
    "## save the operated images##\n",
    "##... CODE HERE ...##\n",
    "\n",
    "## save the histograms outputted ##\n",
    "##... CODE HERE ...##"
   ]
  },
  {
   "cell_type": "markdown",
   "metadata": {},
   "source": [
    "# Enhance the Contrast of the Grayscale Image "
   ]
  },
  {
   "cell_type": "code",
   "execution_count": null,
   "metadata": {},
   "outputs": [],
   "source": [
    "## perform contrast enhancement operation on the grayscale image using alpha and beta operations ##\n",
    "##... CODE HERE ...##\n",
    "\n",
    "## show the histogram of the operation compared to original grayscale image##\n",
    "##... CODE HERE ...##\n",
    "\n",
    "## save the operated image ##\n",
    "##... CODE HERE ...##\n",
    "\n",
    "## save the histogram outputted ##\n",
    "##... CODE HERE ...##"
   ]
  },
  {
   "cell_type": "code",
   "execution_count": null,
   "metadata": {},
   "outputs": [],
   "source": [
    "## use histogram equalization to enhance the contrast of the grayscale image##\n",
    "##... CODE HERE ...##\n",
    "\n",
    "## show the histogram of the operation compared to the previoulsy enhaced image #\n",
    "##... CODE HERE ...##\n",
    "\n",
    "## save the operated image ##\n",
    "##... CODE HERE ...##\n",
    "\n",
    "## save the histogram outputted ##\n",
    "##... CODE HERE ...##"
   ]
  },
  {
   "cell_type": "markdown",
   "metadata": {},
   "source": [
    "## Live Camera"
   ]
  },
  {
   "cell_type": "code",
   "execution_count": 7,
   "metadata": {},
   "outputs": [],
   "source": [
    "## Capture a video and perform the brightening or darkening operation stated previously on the captured video ##\n",
    "## ... CODE HERE ...##"
   ]
  },
  {
   "cell_type": "markdown",
   "metadata": {},
   "source": [
    "## Thank you :) "
   ]
  }
 ],
 "metadata": {
  "kernelspec": {
   "display_name": "Python 3",
   "language": "python",
   "name": "python3"
  },
  "language_info": {
   "codemirror_mode": {
    "name": "ipython",
    "version": 3
   },
   "file_extension": ".py",
   "mimetype": "text/x-python",
   "name": "python",
   "nbconvert_exporter": "python",
   "pygments_lexer": "ipython3",
   "version": "3.7.4"
  }
 },
 "nbformat": 4,
 "nbformat_minor": 5
}
